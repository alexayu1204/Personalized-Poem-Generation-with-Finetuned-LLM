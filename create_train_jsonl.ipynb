{
 "cells": [
  {
   "cell_type": "code",
   "execution_count": 1,
   "id": "7602d45e-bae8-4edd-8045-f6afdd583e14",
   "metadata": {},
   "outputs": [
    {
     "data": {
      "text/plain": [
       "{'deleted': False,\n",
       " 'edited': False,\n",
       " 'accepted': True,\n",
       " 'adaptor': 'adapters_lora_1',\n",
       " 'outer_idx': 0,\n",
       " 'image': '叶子',\n",
       " 'response': '我试图通过一片叶子\\n得到冬天的温度',\n",
       " 'inner_idx': 1,\n",
       " 'id': 2}"
      ]
     },
     "execution_count": 1,
     "metadata": {},
     "output_type": "execute_result"
    }
   ],
   "source": [
    "import json\n",
    "# Load and display the cleaned JSON data\n",
    "json_file_path = './poem_xue_accept.json'\n",
    "with open(json_file_path, 'r', encoding='utf-8') as file:\n",
    "    data = json.load(file)\n",
    "data[0]"
   ]
  },
  {
   "cell_type": "code",
   "execution_count": 2,
   "id": "06914edf-e060-4d8c-93bb-9a8155e828b3",
   "metadata": {},
   "outputs": [],
   "source": [
    "import json\n",
    "\n",
    "poems = []\n",
    "with open(\"./data/train.jsonl\", \"r\", encoding=\"utf-8\") as f:\n",
    "    for line in f:\n",
    "        # Strip any leading/trailing whitespace and skip empty lines\n",
    "        line = line.strip()\n",
    "        if line:\n",
    "            try:\n",
    "                poem = json.loads(line)\n",
    "                poems.append(poem)\n",
    "            except json.JSONDecodeError as e:\n",
    "                print(f\"Error decoding JSON: {e}\")\n"
   ]
  },
  {
   "cell_type": "code",
   "execution_count": 4,
   "id": "9224ab32-f8b8-4d37-8ffa-1607c3dec653",
   "metadata": {},
   "outputs": [
    {
     "data": {
      "text/plain": [
       "({'text': '<|im_start|>system 用户会给出一个主题，请按照给定的主题，切实准确简洁且情感丰富地写一首现代诗<|im_end|> <|im_start|>user 河<|im_end|> <|im_start|>assistant 在河水干涸前\\n我将一只虫放在那里\\n让他熟悉着温润而又恶臭的空气\\n它却飞起的像花一样\\n清澈的河水杂然无味\\n流淌在巨大的山峰底下\\n峰上盖着厚厚的雪<|im_end|>'},\n",
       " 128)"
      ]
     },
     "execution_count": 4,
     "metadata": {},
     "output_type": "execute_result"
    }
   ],
   "source": [
    "poems[0], len(poems)"
   ]
  },
  {
   "cell_type": "code",
   "execution_count": 5,
   "id": "009aefd3-0923-4b85-a6bd-c51b81410e8b",
   "metadata": {},
   "outputs": [],
   "source": [
    "for poem in data:\n",
    "    poems.append({'text': '<|im_start|>system 用户会给出一个主题，请按照给定的主题，切实准确简洁且情感丰富地写一首现代诗<|im_end|> <|im_start|>user '+ poem['image'] +'<|im_end|> <|im_start|>assistant '+ poem['response'] + '<|im_end|>'})\n"
   ]
  },
  {
   "cell_type": "code",
   "execution_count": 7,
   "id": "80d251bf-f5e4-4024-8f0f-7fd33bd73630",
   "metadata": {
    "scrolled": true
   },
   "outputs": [
    {
     "data": {
      "text/plain": [
       "(168,\n",
       " [{'text': '<|im_start|>system 用户会给出一个主题，请按照给定的主题，切实准确简洁且情感丰富地写一首现代诗<|im_end|> <|im_start|>user 叶子<|im_end|> <|im_start|>assistant 我试图通过一片叶子\\n得到冬天的温度<|im_end|>'},\n",
       "  {'text': '<|im_start|>system 用户会给出一个主题，请按照给定的主题，切实准确简洁且情感丰富地写一首现代诗<|im_end|> <|im_start|>user 枯萎的莲花<|im_end|> <|im_start|>assistant 在枯萎的花瓣中\\n藏着被爱撕碎的\\n月亮<|im_end|>'},\n",
       "  {'text': '<|im_start|>system 用户会给出一个主题，请按照给定的主题，切实准确简洁且情感丰富地写一首现代诗<|im_end|> <|im_start|>user 液态金属<|im_end|> <|im_start|>assistant 在液态金属中沉睡\\n在黎明前被唤醒<|im_end|>'},\n",
       "  {'text': '<|im_start|>system 用户会给出一个主题，请按照给定的主题，切实准确简洁且情感丰富地写一首现代诗<|im_end|> <|im_start|>user 铺设道路<|im_end|> <|im_start|>assistant 在沉默中压碎石子\\n在夜中将其铺开<|im_end|>'},\n",
       "  {'text': '<|im_start|>system 用户会给出一个主题，请按照给定的主题，切实准确简洁且情感丰富地写一首现代诗<|im_end|> <|im_start|>user 树梢上的巢<|im_end|> <|im_start|>assistant 在树梢上\\n藏着一个梦<|im_end|>'},\n",
       "  {'text': '<|im_start|>system 用户会给出一个主题，请按照给定的主题，切实准确简洁且情感丰富地写一首现代诗<|im_end|> <|im_start|>user 金色树叶<|im_end|> <|im_start|>assistant 在落尽了粉蝶与微风的夜晚\\n金色的树叶 静静沉在了湖里\\n集了一夜的光<|im_end|>'},\n",
       "  {'text': '<|im_start|>system 用户会给出一个主题，请按照给定的主题，切实准确简洁且情感丰富地写一首现代诗<|im_end|> <|im_start|>user 蒲公英<|im_end|> <|im_start|>assistant 在落雪前\\n这些生命来到这世界<|im_end|>'},\n",
       "  {'text': '<|im_start|>system 用户会给出一个主题，请按照给定的主题，切实准确简洁且情感丰富地写一首现代诗<|im_end|> <|im_start|>user 残片<|im_end|> <|im_start|>assistant 在余光中\\n将一颗心\\n挤成\\n几滴泪<|im_end|>'},\n",
       "  {'text': '<|im_start|>system 用户会给出一个主题，请按照给定的主题，切实准确简洁且情感丰富地写一首现代诗<|im_end|> <|im_start|>user 花瓣<|im_end|> <|im_start|>assistant 花瓣落尽，我们是树脂\\n在等待昆虫插上翅膀<|im_end|>'},\n",
       "  {'text': '<|im_start|>system 用户会给出一个主题，请按照给定的主题，切实准确简洁且情感丰富地写一首现代诗<|im_end|> <|im_start|>user 晨光被蜜糖遮蔽<|im_end|> <|im_start|>assistant 晨光被一块块蜜糖遮蔽\\n我吹散了一切\\n却还是被一些冰镇的滴落的汁液刺中<|im_end|>'},\n",
       "  {'text': '<|im_start|>system 用户会给出一个主题，请按照给定的主题，切实准确简洁且情感丰富地写一首现代诗<|im_end|> <|im_start|>user 被冻死的蜜蜂<|im_end|> <|im_start|>assistant 被冻死的蜜蜂\\n躲在冬天的壳里\\n他们偷走了一口\\n冰的香味<|im_end|>'},\n",
       "  {'text': '<|im_start|>system 用户会给出一个主题，请按照给定的主题，切实准确简洁且情感丰富地写一首现代诗<|im_end|> <|im_start|>user 微光<|im_end|> <|im_start|>assistant 那些如毛细血管般\\n发散的\\n微光<|im_end|>'},\n",
       "  {'text': '<|im_start|>system 用户会给出一个主题，请按照给定的主题，切实准确简洁且情感丰富地写一首现代诗<|im_end|> <|im_start|>user 气泡<|im_end|> <|im_start|>assistant 我\\n把肺挤破\\n挤出一课树<|im_end|>'},\n",
       "  {'text': '<|im_start|>system 用户会给出一个主题，请按照给定的主题，切实准确简洁且情感丰富地写一首现代诗<|im_end|> <|im_start|>user 岩石般的回忆<|im_end|> <|im_start|>assistant 在风的缝隙中\\n我飘零 石头\\n和旧日的记事<|im_end|>'},\n",
       "  {'text': '<|im_start|>system 用户会给出一个主题，请按照给定的主题，切实准确简洁且情感丰富地写一首现代诗<|im_end|> <|im_start|>user 伤口<|im_end|> <|im_start|>assistant 在每一次被撕裂之后\\n我们得到的新月形的\\n是夜晚的汁液\\n它慢慢干在我们的身体里<|im_end|>'},\n",
       "  {'text': '<|im_start|>system 用户会给出一个主题，请按照给定的主题，切实准确简洁且情感丰富地写一首现代诗<|im_end|> <|im_start|>user 天边<|im_end|> <|im_start|>assistant 我天天看天\\n看天落泪\\n一滴一滴的\\n都是要逃出去的我<|im_end|>'},\n",
       "  {'text': '<|im_start|>system 用户会给出一个主题，请按照给定的主题，切实准确简洁且情感丰富地写一首现代诗<|im_end|> <|im_start|>user 烟<|im_end|> <|im_start|>assistant 烟，缠绕着升腾的\\n是记忆\\n是记忆撑破的地方<|im_end|>'},\n",
       "  {'text': '<|im_start|>system 用户会给出一个主题，请按照给定的主题，切实准确简洁且情感丰富地写一首现代诗<|im_end|> <|im_start|>user 波纹<|im_end|> <|im_start|>assistant 在湖面\\n在吹着带一点寒意的风的夜晚<|im_end|>'},\n",
       "  {'text': '<|im_start|>system 用户会给出一个主题，请按照给定的主题，切实准确简洁且情感丰富地写一首现代诗<|im_end|> <|im_start|>user 机器轰鸣<|im_end|> <|im_start|>assistant 那些连同颜色一起掉色的叶子\\n在等一场能带它们飞的风<|im_end|>'},\n",
       "  {'text': '<|im_start|>system 用户会给出一个主题，请按照给定的主题，切实准确简洁且情感丰富地写一首现代诗<|im_end|> <|im_start|>user 凋零的树叶<|im_end|> <|im_start|>assistant 在凋零的树叶中\\n我找到了失散的故乡<|im_end|>'},\n",
       "  {'text': '<|im_start|>system 用户会给出一个主题，请按照给定的主题，切实准确简洁且情感丰富地写一首现代诗<|im_end|> <|im_start|>user 枷锁<|im_end|> <|im_start|>assistant 在被束缚的夜晚\\n枷锁长出的都是月光<|im_end|>'},\n",
       "  {'text': '<|im_start|>system 用户会给出一个主题，请按照给定的主题，切实准确简洁且情感丰富地写一首现代诗<|im_end|> <|im_start|>user 山岭<|im_end|> <|im_start|>assistant 在山岭上\\n我将过去碾碎\\n让它随风吹来<|im_end|>'},\n",
       "  {'text': '<|im_start|>system 用户会给出一个主题，请按照给定的主题，切实准确简洁且情感丰富地写一首现代诗<|im_end|> <|im_start|>user 冬日的寒冷<|im_end|> <|im_start|>assistant 冬日的寒冷\\n是冰块落跑\\n留下的痕迹<|im_end|>'},\n",
       "  {'text': '<|im_start|>system 用户会给出一个主题，请按照给定的主题，切实准确简洁且情感丰富地写一首现代诗<|im_end|> <|im_start|>user 色彩飞溅<|im_end|> <|im_start|>assistant 在黑夜的田野上\\n我轻轻的吹了一口气\\n颜色们涌向你<|im_end|>'},\n",
       "  {'text': '<|im_start|>system 用户会给出一个主题，请按照给定的主题，切实准确简洁且情感丰富地写一首现代诗<|im_end|> <|im_start|>user 冬日夜晚<|im_end|> <|im_start|>assistant 冬日夜晚是神休息的时刻\\n神将夜晚的黑全部倒进水里\\n让冰具有了难解的难度<|im_end|>'},\n",
       "  {'text': '<|im_start|>system 用户会给出一个主题，请按照给定的主题，切实准确简洁且情感丰富地写一首现代诗<|im_end|> <|im_start|>user 清晨的霜冻<|im_end|> <|im_start|>assistant 晨风吹落了夜晚的泪\\n挂满在一夜之间降生的叶上<|im_end|>'},\n",
       "  {'text': '<|im_start|>system 用户会给出一个主题，请按照给定的主题，切实准确简洁且情感丰富地写一首现代诗<|im_end|> <|im_start|>user 滑落的思绪<|im_end|> <|im_start|>assistant 在滑落的思绪中\\n我们都是\\n坠落的星星<|im_end|>'},\n",
       "  {'text': '<|im_start|>system 用户会给出一个主题，请按照给定的主题，切实准确简洁且情感丰富地写一首现代诗<|im_end|> <|im_start|>user 甘露滴落<|im_end|> <|im_start|>assistant 甘露\\n在一夜的风后\\n滴落\\n在石上<|im_end|>'},\n",
       "  {'text': '<|im_start|>system 用户会给出一个主题，请按照给定的主题，切实准确简洁且情感丰富地写一首现代诗<|im_end|> <|im_start|>user 爱<|im_end|> <|im_start|>assistant 在爱恋的人面前\\n我们都是\\n落败的雪<|im_end|>'},\n",
       "  {'text': '<|im_start|>system 用户会给出一个主题，请按照给定的主题，切实准确简洁且情感丰富地写一首现代诗<|im_end|> <|im_start|>user 天空裂缝<|im_end|> <|im_start|>assistant 在裂缝中生长着一些细小的光\\n他们涌向一片片像落泪一样飞落的叶子\\n叶子继续往下落\\n直到堆叠在一起,成为压在我身上的一块石<|im_end|>'},\n",
       "  {'text': '<|im_start|>system 用户会给出一个主题，请按照给定的主题，切实准确简洁且情感丰富地写一首现代诗<|im_end|> <|im_start|>user 日出<|im_end|> <|im_start|>assistant 在新的一天开始之前\\n我们都是死了的人<|im_end|>'},\n",
       "  {'text': '<|im_start|>system 用户会给出一个主题，请按照给定的主题，切实准确简洁且情感丰富地写一首现代诗<|im_end|> <|im_start|>user 流星<|im_end|> <|im_start|>assistant 流星\\n在星间流浪了无数年之后\\n他们第一次\\n碰触地面<|im_end|>'},\n",
       "  {'text': '<|im_start|>system 用户会给出一个主题，请按照给定的主题，切实准确简洁且情感丰富地写一首现代诗<|im_end|> <|im_start|>user 空气中的味道<|im_end|> <|im_start|>assistant 请让我继续在地球上走着\\n只为闻到这个星球给我的味道<|im_end|>'},\n",
       "  {'text': '<|im_start|>system 用户会给出一个主题，请按照给定的主题，切实准确简洁且情感丰富地写一首现代诗<|im_end|> <|im_start|>user 漂泊的状态<|im_end|> <|im_start|>assistant 在漂泊的状态中\\n我\\n是片懒散的云<|im_end|>'},\n",
       "  {'text': '<|im_start|>system 用户会给出一个主题，请按照给定的主题，切实准确简洁且情感丰富地写一首现代诗<|im_end|> <|im_start|>user 短暂的一生<|im_end|> <|im_start|>assistant 在一颗石头的旁边\\n休息\\n短暂的一生\\n只为被寒冰与岩石挤压\\n做一次眼泪蒸发的梦<|im_end|>'},\n",
       "  {'text': '<|im_start|>system 用户会给出一个主题，请按照给定的主题，切实准确简洁且情感丰富地写一首现代诗<|im_end|> <|im_start|>user 路途<|im_end|> <|im_start|>assistant 在路途上\\n我们丢弃了一些自己<|im_end|>'},\n",
       "  {'text': '<|im_start|>system 用户会给出一个主题，请按照给定的主题，切实准确简洁且情感丰富地写一首现代诗<|im_end|> <|im_start|>user 树林<|im_end|> <|im_start|>assistant 在欲念不染的季节\\n在白天和夜晚同一只时间\\n在存在通往非存在的路上<|im_end|>'},\n",
       "  {'text': '<|im_start|>system 用户会给出一个主题，请按照给定的主题，切实准确简洁且情感丰富地写一首现代诗<|im_end|> <|im_start|>user 记忆<|im_end|> <|im_start|>assistant 手中攥住的记忆\\n那些记忆带着温暖的光<|im_end|>'},\n",
       "  {'text': '<|im_start|>system 用户会给出一个主题，请按照给定的主题，切实准确简洁且情感丰富地写一首现代诗<|im_end|> <|im_start|>user 归家路<|im_end|> <|im_start|>assistant 我们咽下星月\\n吐出一口又一口的黑暗<|im_end|>'},\n",
       "  {'text': '<|im_start|>system 用户会给出一个主题，请按照给定的主题，切实准确简洁且情感丰富地写一首现代诗<|im_end|> <|im_start|>user 长眠<|im_end|> <|im_start|>assistant 他们全部长眠在我的体内\\n沉睡于未规定的梦里<|im_end|>'}])"
      ]
     },
     "execution_count": 7,
     "metadata": {},
     "output_type": "execute_result"
    }
   ],
   "source": [
    "len(poems), poems[128:]"
   ]
  },
  {
   "cell_type": "code",
   "execution_count": 8,
   "id": "d0f60aa6-9197-47c3-bd81-acbdd0ef072c",
   "metadata": {},
   "outputs": [
    {
     "name": "stdout",
     "output_type": "stream",
     "text": [
      "168\n"
     ]
    }
   ],
   "source": [
    "# Dump to JSONL\n",
    "with open(\"./data/train.jsonl\", \"w\", encoding=\"utf-8\") as f:\n",
    "    for line in poems:\n",
    "        f.write(json.dumps(line, ensure_ascii=False) + \"\\n\")\n",
    "print(len(poems))"
   ]
  },
  {
   "cell_type": "code",
   "execution_count": null,
   "id": "d1edbd3a-903d-42d2-a775-1a07fb36a2f6",
   "metadata": {},
   "outputs": [],
   "source": []
  }
 ],
 "metadata": {
  "kernelspec": {
   "display_name": "Python 3 (ipykernel)",
   "language": "python",
   "name": "python3"
  },
  "language_info": {
   "codemirror_mode": {
    "name": "ipython",
    "version": 3
   },
   "file_extension": ".py",
   "mimetype": "text/x-python",
   "name": "python",
   "nbconvert_exporter": "python",
   "pygments_lexer": "ipython3",
   "version": "3.11.10"
  }
 },
 "nbformat": 4,
 "nbformat_minor": 5
}
