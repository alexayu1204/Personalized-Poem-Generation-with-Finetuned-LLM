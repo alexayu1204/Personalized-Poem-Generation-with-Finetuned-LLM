{
 "cells": [
  {
   "cell_type": "code",
   "execution_count": 1,
   "id": "7f03633b-9531-4c98-a7a8-65289c125498",
   "metadata": {},
   "outputs": [],
   "source": [
    "# parse data\n",
    "import json"
   ]
  },
  {
   "cell_type": "code",
   "execution_count": 9,
   "id": "60d8390c-ae02-4850-8ffd-c9ac10bcb70d",
   "metadata": {},
   "outputs": [],
   "source": [
    "def parse_poems(file_path, output_path):\n",
    "    with open(file_path, 'r', encoding='utf-8') as f:\n",
    "        content = f.read()\n",
    "    \n",
    "    # Split content by multiple newlines (3 or more)\n",
    "    raw_poems = [p.strip() for p in content.split('\\n\\n\\n') if p.strip()]\n",
    "\n",
    "    # print(raw_poems)\n",
    "    \n",
    "    formatted_poems = []\n",
    "    # Open output file for writing JSONL\n",
    "    with open(output_path, 'w', encoding='utf-8') as out_file:\n",
    "        for poem in raw_poems[-1:]:\n",
    "            # Skip empty sections\n",
    "            if not poem.strip():\n",
    "                continue\n",
    "                \n",
    "            # Split into lines and filter out empty lines\n",
    "            lines = [line.strip() for line in poem.split('\\n') if line.strip()]\n",
    "            \n",
    "            # Extract title (removing ** marks) and content\n",
    "            title = None\n",
    "            content_lines = []\n",
    "            for line in lines:\n",
    "                if not line[0].isdigit():  # Skip date lines (starting with numbers)\n",
    "                    content_lines.append(line)\n",
    "    \n",
    "            if content_lines:\n",
    "                title = content_lines[0]\n",
    "                # Create the formatted string\n",
    "                formatted_poem = (\n",
    "                    f\"<|im_start|>system 用户会给出一个主题，请按照给定的主题，\"\n",
    "                    f\"切实准确简洁且情感丰富地写一首现代诗<|im_end|> \"\n",
    "                    f\"<|im_start|>user {title}<|im_end|> \"\n",
    "                    f\"<|im_start|>assistant {chr(10).join(content_lines[1:])}<|im_end|>\"\n",
    "                )\n",
    "                formatted_poems.append(formatted_poem)\n",
    "                # Write to JSONL file\n",
    "                json_line = {\"text\": formatted_poem}\n",
    "                out_file.write(json.dumps(json_line, ensure_ascii=False) + '\\n')\n",
    "    \n",
    "    return formatted_poems"
   ]
  },
  {
   "cell_type": "code",
   "execution_count": 10,
   "id": "a864717d-d4cd-456f-bbf7-77ad3bc0aec1",
   "metadata": {},
   "outputs": [
    {
     "ename": "FileNotFoundError",
     "evalue": "[Errno 2] No such file or directory: './data.txt'",
     "output_type": "error",
     "traceback": [
      "\u001b[0;31m---------------------------------------------------------------------------\u001b[0m",
      "\u001b[0;31mFileNotFoundError\u001b[0m                         Traceback (most recent call last)",
      "Cell \u001b[0;32mIn[10], line 4\u001b[0m\n\u001b[1;32m      2\u001b[0m file_path \u001b[38;5;241m=\u001b[39m \u001b[38;5;124m\"\u001b[39m\u001b[38;5;124m./data.txt\u001b[39m\u001b[38;5;124m\"\u001b[39m\n\u001b[1;32m      3\u001b[0m output_file \u001b[38;5;241m=\u001b[39m \u001b[38;5;124m\"\u001b[39m\u001b[38;5;124mtrain.jsonl\u001b[39m\u001b[38;5;124m\"\u001b[39m\n\u001b[0;32m----> 4\u001b[0m formatted_poems \u001b[38;5;241m=\u001b[39m \u001b[43mparse_poems\u001b[49m\u001b[43m(\u001b[49m\u001b[43mfile_path\u001b[49m\u001b[43m,\u001b[49m\u001b[43m \u001b[49m\u001b[43moutput_file\u001b[49m\u001b[43m)\u001b[49m\n\u001b[1;32m      6\u001b[0m \u001b[38;5;66;03m# Print each formatted poem\u001b[39;00m\n\u001b[1;32m      7\u001b[0m \u001b[38;5;28;01mfor\u001b[39;00m poem \u001b[38;5;129;01min\u001b[39;00m formatted_poems:\n",
      "Cell \u001b[0;32mIn[9], line 2\u001b[0m, in \u001b[0;36mparse_poems\u001b[0;34m(file_path, output_path)\u001b[0m\n\u001b[1;32m      1\u001b[0m \u001b[38;5;28;01mdef\u001b[39;00m\u001b[38;5;250m \u001b[39m\u001b[38;5;21mparse_poems\u001b[39m(file_path, output_path):\n\u001b[0;32m----> 2\u001b[0m     \u001b[38;5;28;01mwith\u001b[39;00m \u001b[38;5;28;43mopen\u001b[39;49m\u001b[43m(\u001b[49m\u001b[43mfile_path\u001b[49m\u001b[43m,\u001b[49m\u001b[43m \u001b[49m\u001b[38;5;124;43m'\u001b[39;49m\u001b[38;5;124;43mr\u001b[39;49m\u001b[38;5;124;43m'\u001b[39;49m\u001b[43m,\u001b[49m\u001b[43m \u001b[49m\u001b[43mencoding\u001b[49m\u001b[38;5;241;43m=\u001b[39;49m\u001b[38;5;124;43m'\u001b[39;49m\u001b[38;5;124;43mutf-8\u001b[39;49m\u001b[38;5;124;43m'\u001b[39;49m\u001b[43m)\u001b[49m \u001b[38;5;28;01mas\u001b[39;00m f:\n\u001b[1;32m      3\u001b[0m         content \u001b[38;5;241m=\u001b[39m f\u001b[38;5;241m.\u001b[39mread()\n\u001b[1;32m      5\u001b[0m     \u001b[38;5;66;03m# Split content by multiple newlines (3 or more)\u001b[39;00m\n",
      "File \u001b[0;32m~/anaconda3/envs/mlx/lib/python3.9/site-packages/IPython/core/interactiveshell.py:310\u001b[0m, in \u001b[0;36m_modified_open\u001b[0;34m(file, *args, **kwargs)\u001b[0m\n\u001b[1;32m    303\u001b[0m \u001b[38;5;28;01mif\u001b[39;00m file \u001b[38;5;129;01min\u001b[39;00m {\u001b[38;5;241m0\u001b[39m, \u001b[38;5;241m1\u001b[39m, \u001b[38;5;241m2\u001b[39m}:\n\u001b[1;32m    304\u001b[0m     \u001b[38;5;28;01mraise\u001b[39;00m \u001b[38;5;167;01mValueError\u001b[39;00m(\n\u001b[1;32m    305\u001b[0m         \u001b[38;5;124mf\u001b[39m\u001b[38;5;124m\"\u001b[39m\u001b[38;5;124mIPython won\u001b[39m\u001b[38;5;124m'\u001b[39m\u001b[38;5;124mt let you open fd=\u001b[39m\u001b[38;5;132;01m{\u001b[39;00mfile\u001b[38;5;132;01m}\u001b[39;00m\u001b[38;5;124m by default \u001b[39m\u001b[38;5;124m\"\u001b[39m\n\u001b[1;32m    306\u001b[0m         \u001b[38;5;124m\"\u001b[39m\u001b[38;5;124mas it is likely to crash IPython. If you know what you are doing, \u001b[39m\u001b[38;5;124m\"\u001b[39m\n\u001b[1;32m    307\u001b[0m         \u001b[38;5;124m\"\u001b[39m\u001b[38;5;124myou can use builtins\u001b[39m\u001b[38;5;124m'\u001b[39m\u001b[38;5;124m open.\u001b[39m\u001b[38;5;124m\"\u001b[39m\n\u001b[1;32m    308\u001b[0m     )\n\u001b[0;32m--> 310\u001b[0m \u001b[38;5;28;01mreturn\u001b[39;00m \u001b[43mio_open\u001b[49m\u001b[43m(\u001b[49m\u001b[43mfile\u001b[49m\u001b[43m,\u001b[49m\u001b[43m \u001b[49m\u001b[38;5;241;43m*\u001b[39;49m\u001b[43margs\u001b[49m\u001b[43m,\u001b[49m\u001b[43m \u001b[49m\u001b[38;5;241;43m*\u001b[39;49m\u001b[38;5;241;43m*\u001b[39;49m\u001b[43mkwargs\u001b[49m\u001b[43m)\u001b[49m\n",
      "\u001b[0;31mFileNotFoundError\u001b[0m: [Errno 2] No such file or directory: './data.txt'"
     ]
    }
   ],
   "source": [
    "# Replace with your file path\n",
    "file_path = \"./data.txt\"\n",
    "output_file = \"train.jsonl\"\n",
    "formatted_poems = parse_poems(file_path, output_file)\n",
    "\n",
    "# Print each formatted poem\n",
    "for poem in formatted_poems:\n",
    "    print(poem)\n",
    "    print(\"\\n\")  # Add separation between poems"
   ]
  },
  {
   "cell_type": "code",
   "execution_count": 11,
   "id": "771651b3-dbf4-4c4a-a161-312e7c342a7f",
   "metadata": {},
   "outputs": [],
   "source": [
    "# # Write to JSONL file\n",
    "#                 json_line = {\"text\": formatted_poem}\n",
    "#                 out_file.write(json.dumps(json_line, ensure_ascii=False) + '\\n')\n",
    "\n",
    "# # Example usage:\n",
    "# if __name__ == \"__main__\":\n",
    "#     input_file = \"poems.txt\"\n",
    "#     output_file = \"train.jsonl\"\n",
    "#     parse_poems(input_file, output_file)\n",
    "#     print(f\"Successfully converted poems to {output_file}\")"
   ]
  },
  {
   "cell_type": "code",
   "execution_count": 12,
   "id": "051efff4-12ae-4f58-8165-bca1587bc55b",
   "metadata": {},
   "outputs": [
    {
     "ename": "NameError",
     "evalue": "name 'json_line' is not defined",
     "output_type": "error",
     "traceback": [
      "\u001b[0;31m---------------------------------------------------------------------------\u001b[0m",
      "\u001b[0;31mNameError\u001b[0m                                 Traceback (most recent call last)",
      "Cell \u001b[0;32mIn[12], line 5\u001b[0m\n\u001b[1;32m      1\u001b[0m \u001b[38;5;66;03m# Open output file for writing JSONL\u001b[39;00m\n\u001b[1;32m      2\u001b[0m \u001b[38;5;28;01mwith\u001b[39;00m \u001b[38;5;28mopen\u001b[39m(\u001b[38;5;124m'\u001b[39m\u001b[38;5;124mvalid.jsonl\u001b[39m\u001b[38;5;124m'\u001b[39m, \u001b[38;5;124m'\u001b[39m\u001b[38;5;124mw\u001b[39m\u001b[38;5;124m'\u001b[39m, encoding\u001b[38;5;241m=\u001b[39m\u001b[38;5;124m'\u001b[39m\u001b[38;5;124mutf-8\u001b[39m\u001b[38;5;124m'\u001b[39m) \u001b[38;5;28;01mas\u001b[39;00m out_file:\n\u001b[1;32m      3\u001b[0m \u001b[38;5;66;03m# Write to JSONL file\u001b[39;00m\n\u001b[1;32m      4\u001b[0m     \u001b[38;5;66;03m# json_line = {\"text\": formatted_poem}\u001b[39;00m\n\u001b[0;32m----> 5\u001b[0m     out_file\u001b[38;5;241m.\u001b[39mwrite(json\u001b[38;5;241m.\u001b[39mdumps(\u001b[43mjson_line\u001b[49m, ensure_ascii\u001b[38;5;241m=\u001b[39m\u001b[38;5;28;01mFalse\u001b[39;00m) \u001b[38;5;241m+\u001b[39m \u001b[38;5;124m'\u001b[39m\u001b[38;5;130;01m\\n\u001b[39;00m\u001b[38;5;124m'\u001b[39m)\n",
      "\u001b[0;31mNameError\u001b[0m: name 'json_line' is not defined"
     ]
    }
   ],
   "source": [
    "# Open output file for writing JSONL\n",
    "with open('valid.jsonl', 'w', encoding='utf-8') as out_file:\n",
    "# Write to JSONL file\n",
    "    # json_line = {\"text\": formatted_poem}\n",
    "    out_file.write(json.dumps(json_line, ensure_ascii=False) + '\\n')"
   ]
  },
  {
   "cell_type": "code",
   "execution_count": null,
   "id": "b123c584-7bfb-4f71-b8c5-c805cb88fc68",
   "metadata": {},
   "outputs": [],
   "source": []
  }
 ],
 "metadata": {
  "kernelspec": {
   "display_name": "Python 3 (ipykernel)",
   "language": "python",
   "name": "python3"
  },
  "language_info": {
   "codemirror_mode": {
    "name": "ipython",
    "version": 3
   },
   "file_extension": ".py",
   "mimetype": "text/x-python",
   "name": "python",
   "nbconvert_exporter": "python",
   "pygments_lexer": "ipython3",
   "version": "3.9.20"
  }
 },
 "nbformat": 4,
 "nbformat_minor": 5
}
