{
 "cells": [
  {
   "cell_type": "code",
   "execution_count": 2,
   "id": "23767c30-fdb6-4003-adbb-0f2022af5de6",
   "metadata": {},
   "outputs": [],
   "source": [
    "import json\n",
    "\n",
    "poems = []\n",
    "with open(\"./data/train.jsonl\", \"r\", encoding=\"utf-8\") as f:\n",
    "    for line in f:\n",
    "        # Strip any leading/trailing whitespace and skip empty lines\n",
    "        line = line.strip()\n",
    "        if line:\n",
    "            try:\n",
    "                poem = json.loads(line)\n",
    "                poems.append(poem)\n",
    "            except json.JSONDecodeError as e:\n",
    "                print(f\"Error decoding JSON: {e}\")\n"
   ]
  },
  {
   "cell_type": "code",
   "execution_count": 4,
   "id": "c808af1b-ce95-4782-90ae-de99c85632ad",
   "metadata": {},
   "outputs": [],
   "source": [
    "# Load and display the cleaned JSON data\n",
    "# Optional: Define the path for the cleaned JSON output\n",
    "cleaned_json_file_path = 'cleaned_poems.json'\n",
    "with open(cleaned_json_file_path, 'r', encoding='utf-8') as file:\n",
    "    cleaned_data = json.load(file)\n",
    "\n",
    "for data in cleaned_data:\n",
    "    poems.append({'text': '<|im_start|>system 用户会给出一个主题，请按照给定的主题，切实准确简洁且情感丰富地写一首现代诗<|im_end|> <|im_start|>user '+ data['title'] +'<|im_end|> <|im_start|>assistant '+ data['body'] + '<|im_end|>'})\n"
   ]
  },
  {
   "cell_type": "code",
   "execution_count": 8,
   "id": "cb00a7e4-f07f-441f-8c39-9d0260e252b4",
   "metadata": {},
   "outputs": [
    {
     "data": {
      "text/plain": [
       "[{'text': '<|im_start|>system 用户会给出一个主题，请按照给定的主题，切实准确简洁且情感丰富地写一首现代诗<|im_end|> <|im_start|>user 河水<|im_end|> <|im_start|>assistant 在夜的深处\\n河水\\n是黑暗的\\n眼睛<|im_end|>'},\n",
       " {'text': '<|im_start|>system 用户会给出一个主题，请按照给定的主题，切实准确简洁且情感丰富地写一首现代诗<|im_end|> <|im_start|>user 积雪<|im_end|> <|im_start|>assistant 在落雪的夜晚\\n我将积雪\\n藏在了心里<|im_end|>'},\n",
       " {'text': '<|im_start|>system 用户会给出一个主题，请按照给定的主题，切实准确简洁且情感丰富地写一首现代诗<|im_end|> <|im_start|>user 虫子<|im_end|> <|im_start|>assistant 在夜的深处\\n虫子\\n用尽全身的力气\\n嘶喊\\n直到\\n沙哑<|im_end|>'},\n",
       " {'text': '<|im_start|>system 用户会给出一个主题，请按照给定的主题，切实准确简洁且情感丰富地写一首现代诗<|im_end|> <|im_start|>user 山峰<|im_end|> <|im_start|>assistant 在山峰的顶端\\n我将自己\\n压成一片叶子<|im_end|>'},\n",
       " {'text': '<|im_start|>system 用户会给出一个主题，请按照给定的主题，切实准确简洁且情感丰富地写一首现代诗<|im_end|> <|im_start|>user 雨水中的伞<|im_end|> <|im_start|>assistant 在雨的细语中\\n我撑开伞\\n遮挡了\\n从天而降的思念<|im_end|>'},\n",
       " {'text': '<|im_start|>system 用户会给出一个主题，请按照给定的主题，切实准确简洁且情感丰富地写一首现代诗<|im_end|> <|im_start|>user 枯萎的莲花<|im_end|> <|im_start|>assistant 在枯萎的莲花里\\n藏着一个\\n干涸的\\n海<|im_end|>'},\n",
       " {'text': '<|im_start|>system 用户会给出一个主题，请按照给定的主题，切实准确简洁且情感丰富地写一首现代诗<|im_end|> <|im_start|>user 凝视的寒塘<|im_end|> <|im_start|>assistant 凝视的寒塘\\n是落尽繁华的枝头<|im_end|>'},\n",
       " {'text': '<|im_start|>system 用户会给出一个主题，请按照给定的主题，切实准确简洁且情感丰富地写一首现代诗<|im_end|> <|im_start|>user 冬日的寒冷<|im_end|> <|im_start|>assistant 冬日的寒冷\\n是冰封的泪滴\\n在夜的黑幕下\\n静静的流淌<|im_end|>'},\n",
       " {'text': '<|im_start|>system 用户会给出一个主题，请按照给定的主题，切实准确简洁且情感丰富地写一首现代诗<|im_end|> <|im_start|>user 枯榕的影子<|im_end|> <|im_start|>assistant 在褪色的黄昏\\n我与枯榕的影子\\n在废弃的街道上\\n一起流浪<|im_end|>'},\n",
       " {'text': '<|im_start|>system 用户会给出一个主题，请按照给定的主题，切实准确简洁且情感丰富地写一首现代诗<|im_end|> <|im_start|>user 冰冷的水<|im_end|> <|im_start|>assistant 冰凉的水\\n在夜晚静静的流\\n它知道\\n它流过的地方\\n什么都不会知道<|im_end|>'},\n",
       " {'text': '<|im_start|>system 用户会给出一个主题，请按照给定的主题，切实准确简洁且情感丰富地写一首现代诗<|im_end|> <|im_start|>user 桥边的影子<|im_end|> <|im_start|>assistant 在桥边\\n影子拉长\\n等待的我\\n却消失不见<|im_end|>'},\n",
       " {'text': '<|im_start|>system 用户会给出一个主题，请按照给定的主题，切实准确简洁且情感丰富地写一首现代诗<|im_end|> <|im_start|>user 新生的苔藓<|im_end|> <|im_start|>assistant 在旧日的伤口上\\n开出了\\n新生的苔藓<|im_end|>'},\n",
       " {'text': '<|im_start|>system 用户会给出一个主题，请按照给定的主题，切实准确简洁且情感丰富地写一首现代诗<|im_end|> <|im_start|>user 桥头的木栏<|im_end|> <|im_start|>assistant 在桥头\\n木栏上\\n坐着一个\\n没有头的人<|im_end|>'},\n",
       " {'text': '<|im_start|>system 用户会给出一个主题，请按照给定的主题，切实准确简洁且情感丰富地写一首现代诗<|im_end|> <|im_start|>user 铺设道路<|im_end|> <|im_start|>assistant 在无人问津的荒野\\n我\\n在荆棘中\\n在沼泽里<|im_end|>'},\n",
       " {'text': '<|im_start|>system 用户会给出一个主题，请按照给定的主题，切实准确简洁且情感丰富地写一首现代诗<|im_end|> <|im_start|>user 花朵散落在道路两旁<|im_end|> <|im_start|>assistant 花朵散落在道路两旁\\n我却无法成为\\n一只脚\\n去触碰它们<|im_end|>'},\n",
       " {'text': '<|im_start|>system 用户会给出一个主题，请按照给定的主题，切实准确简洁且情感丰富地写一首现代诗<|im_end|> <|im_start|>user 静立不动<|im_end|> <|im_start|>assistant 静立不动\\n在无尽的黑夜<|im_end|>'},\n",
       " {'text': '<|im_start|>system 用户会给出一个主题，请按照给定的主题，切实准确简洁且情感丰富地写一首现代诗<|im_end|> <|im_start|>user 冬日夜晚<|im_end|> <|im_start|>assistant 冬日夜晚\\n是被遗忘的角落<|im_end|>'},\n",
       " {'text': '<|im_start|>system 用户会给出一个主题，请按照给定的主题，切实准确简洁且情感丰富地写一首现代诗<|im_end|> <|im_start|>user 僵立不动<|im_end|> <|im_start|>assistant 我\\n是一块\\n冰冷的\\n石头<|im_end|>'},\n",
       " {'text': '<|im_start|>system 用户会给出一个主题，请按照给定的主题，切实准确简洁且情感丰富地写一首现代诗<|im_end|> <|im_start|>user 枯黄的树叶<|im_end|> <|im_start|>assistant 在风的笔下\\n枯黄的树叶\\n是它写给大地的\\n一封封信<|im_end|>'},\n",
       " {'text': '<|im_start|>system 用户会给出一个主题，请按照给定的主题，切实准确简洁且情感丰富地写一首现代诗<|im_end|> <|im_start|>user 未熟的芽<|im_end|> <|im_start|>assistant 在未熟的芽里\\n藏着一颗\\n未熟的\\n心<|im_end|>'},\n",
       " {'text': '<|im_start|>system 用户会给出一个主题，请按照给定的主题，切实准确简洁且情感丰富地写一首现代诗<|im_end|> <|im_start|>user 青绿色的未成熟果实<|im_end|> <|im_start|>assistant 在未成熟的季节\\n我是一枚\\n青绿色的果实<|im_end|>'},\n",
       " {'text': '<|im_start|>system 用户会给出一个主题，请按照给定的主题，切实准确简洁且情感丰富地写一首现代诗<|im_end|> <|im_start|>user 未知的绿意<|im_end|> <|im_start|>assistant 那些未知的绿意\\n是风的笔\\n在夜的纸上\\n写下的梦<|im_end|>'},\n",
       " {'text': '<|im_start|>system 用户会给出一个主题，请按照给定的主题，切实准确简洁且情感丰富地写一首现代诗<|im_end|> <|im_start|>user 树尖上的巢<|im_end|> <|im_start|>assistant 在树尖上\\n我筑起一个巢\\n等待风的来临<|im_end|>'},\n",
       " {'text': '<|im_start|>system 用户会给出一个主题，请按照给定的主题，切实准确简洁且情感丰富地写一首现代诗<|im_end|> <|im_start|>user 风吹散云朵<|im_end|> <|im_start|>assistant 风\\n吹散\\n云朵<|im_end|>'},\n",
       " {'text': '<|im_start|>system 用户会给出一个主题，请按照给定的主题，切实准确简洁且情感丰富地写一首现代诗<|im_end|> <|im_start|>user 树梢上的巢<|im_end|> <|im_start|>assistant 在树梢上\\n藏着一个秘密\\n藏着一个\\n小小的\\n家<|im_end|>'},\n",
       " {'text': '<|im_start|>system 用户会给出一个主题，请按照给定的主题，切实准确简洁且情感丰富地写一首现代诗<|im_end|> <|im_start|>user 血色残阳<|im_end|> <|im_start|>assistant 将血色的余晖\\n涂抹在\\n残破的城墙<|im_end|>'},\n",
       " {'text': '<|im_start|>system 用户会给出一个主题，请按照给定的主题，切实准确简洁且情感丰富地写一首现代诗<|im_end|> <|im_start|>user 滑落的思绪<|im_end|> <|im_start|>assistant 在风的缝隙中\\n滑落的思绪\\n如落叶般\\n无声\\n却沉重<|im_end|>'},\n",
       " {'text': '<|im_start|>system 用户会给出一个主题，请按照给定的主题，切实准确简洁且情感丰富地写一首现代诗<|im_end|> <|im_start|>user 机械呼吸<|im_end|> <|im_start|>assistant 在机械的呼吸中沉睡，\\n在冰冷的光中醒来，\\n在无尽的循环中寻找，\\n属于自己的温度。<|im_end|>'},\n",
       " {'text': '<|im_start|>system 用户会给出一个主题，请按照给定的主题，切实准确简洁且情感丰富地写一首现代诗<|im_end|> <|im_start|>user 生命边缘<|im_end|> <|im_start|>assistant 在生命边缘\\n我看见了\\n那些\\n从未见过的\\n颜色<|im_end|>'},\n",
       " {'text': '<|im_start|>system 用户会给出一个主题，请按照给定的主题，切实准确简洁且情感丰富地写一首现代诗<|im_end|> <|im_start|>user 心上的洞<|im_end|> <|im_start|>assistant 心上的洞\\n藏着月的忧伤<|im_end|>'},\n",
       " {'text': '<|im_start|>system 用户会给出一个主题，请按照给定的主题，切实准确简洁且情感丰富地写一首现代诗<|im_end|> <|im_start|>user 风<|im_end|> <|im_start|>assistant 风\\n在吹落最后一片叶子之前\\n它会把叶子吹到哪里<|im_end|>'},\n",
       " {'text': '<|im_start|>system 用户会给出一个主题，请按照给定的主题，切实准确简洁且情感丰富地写一首现代诗<|im_end|> <|im_start|>user 利刃<|im_end|> <|im_start|>assistant 在夜的深处\\n我将自己\\n切成无数个\\n小小的\\n月光\\n和黑暗<|im_end|>'},\n",
       " {'text': '<|im_start|>system 用户会给出一个主题，请按照给定的主题，切实准确简洁且情感丰富地写一首现代诗<|im_end|> <|im_start|>user 感官<|im_end|> <|im_start|>assistant 在风中\\n我闻到了\\n秋天的味道<|im_end|>'},\n",
       " {'text': '<|im_start|>system 用户会给出一个主题，请按照给定的主题，切实准确简洁且情感丰富地写一首现代诗<|im_end|> <|im_start|>user 残片<|im_end|> <|im_start|>assistant 在遗忘的角落\\n我拾起一片记忆\\n它残缺不全\\n却锋利无比<|im_end|>'},\n",
       " {'text': '<|im_start|>system 用户会给出一个主题，请按照给定的主题，切实准确简洁且情感丰富地写一首现代诗<|im_end|> <|im_start|>user 山巅的薄雾<|im_end|> <|im_start|>assistant 在山巅\\n我与薄雾\\n擦肩而过<|im_end|>'},\n",
       " {'text': '<|im_start|>system 用户会给出一个主题，请按照给定的主题，切实准确简洁且情感丰富地写一首现代诗<|im_end|> <|im_start|>user 凋零的叶子<|im_end|> <|im_start|>assistant 在风的笔下\\n叶子们\\n正书写着\\n生命的绝笔<|im_end|>'},\n",
       " {'text': '<|im_start|>system 用户会给出一个主题，请按照给定的主题，切实准确简洁且情感丰富地写一首现代诗<|im_end|> <|im_start|>user 落叶<|im_end|> <|im_start|>assistant 落叶，是秋天的泪滴\\n在风的指尖滑落\\n落在记忆的湖里\\n泛起一圈圈思念的涟漪<|im_end|>'},\n",
       " {'text': '<|im_start|>system 用户会给出一个主题，请按照给定的主题，切实准确简洁且情感丰富地写一首现代诗<|im_end|> <|im_start|>user 新生的树桠<|im_end|> <|im_start|>assistant 在黎明的缝隙中\\n我看见了\\n新生的树桠<|im_end|>'},\n",
       " {'text': '<|im_start|>system 用户会给出一个主题，请按照给定的主题，切实准确简洁且情感丰富地写一首现代诗<|im_end|> <|im_start|>user 新芽<|im_end|> <|im_start|>assistant 新芽，是夜的泪滴\\n在黎明的指尖轻轻一弹<|im_end|>'},\n",
       " {'text': '<|im_start|>system 用户会给出一个主题，请按照给定的主题，切实准确简洁且情感丰富地写一首现代诗<|im_end|> <|im_start|>user 蜜糖掉落<|im_end|> <|im_start|>assistant 在无人的角落\\n我将自己化为一只蚂蚁\\n只为捡拾\\n你掉落在地的\\n那一滴\\n甜的\\n像极了\\n我的生命<|im_end|>'},\n",
       " {'text': '<|im_start|>system 用户会给出一个主题，请按照给定的主题，切实准确简洁且情感丰富地写一首现代诗<|im_end|> <|im_start|>user 随风飘落的叶子<|im_end|> <|im_start|>assistant 随风飘落的叶子\\n是秋天的忧郁\\n在等待一场雪<|im_end|>'},\n",
       " {'text': '<|im_start|>system 用户会给出一个主题，请按照给定的主题，切实准确简洁且情感丰富地写一首现代诗<|im_end|> <|im_start|>user 石头<|im_end|> <|im_start|>assistant 在山间\\n石头\\n是沉默的诗人<|im_end|>'},\n",
       " {'text': '<|im_start|>system 用户会给出一个主题，请按照给定的主题，切实准确简洁且情感丰富地写一首现代诗<|im_end|> <|im_start|>user 剑<|im_end|> <|im_start|>assistant 那把剑\\n藏在了风里\\n藏在了\\n风的哭泣里<|im_end|>'},\n",
       " {'text': '<|im_start|>system 用户会给出一个主题，请按照给定的主题，切实准确简洁且情感丰富地写一首现代诗<|im_end|> <|im_start|>user 碎石块<|im_end|> <|im_start|>assistant 那些碎石块\\n在黑夜中\\n闪烁着\\n不为人知的\\n光芒<|im_end|>'},\n",
       " {'text': '<|im_start|>system 用户会给出一个主题，请按照给定的主题，切实准确简洁且情感丰富地写一首现代诗<|im_end|> <|im_start|>user 潮水退去<|im_end|> <|im_start|>assistant 潮水退去\\n我留下一地的回忆<|im_end|>'},\n",
       " {'text': '<|im_start|>system 用户会给出一个主题，请按照给定的主题，切实准确简洁且情感丰富地写一首现代诗<|im_end|> <|im_start|>user 神<|im_end|> <|im_start|>assistant 神，藏在了风里\\n它吹过山谷\\n吹过山岗\\n吹过人间<|im_end|>'},\n",
       " {'text': '<|im_start|>system 用户会给出一个主题，请按照给定的主题，切实准确简洁且情感丰富地写一首现代诗<|im_end|> <|im_start|>user 森林<|im_end|> <|im_start|>assistant 在森林的深处\\n我遇见了你\\n你的眼睛\\n比树荫下的光还要明亮<|im_end|>'},\n",
       " {'text': '<|im_start|>system 用户会给出一个主题，请按照给定的主题，切实准确简洁且情感丰富地写一首现代诗<|im_end|> <|im_start|>user 没有地址的信<|im_end|> <|im_start|>assistant 黑夜，你是一封\\n没有地址的信<|im_end|>'},\n",
       " {'text': '<|im_start|>system 用户会给出一个主题，请按照给定的主题，切实准确简洁且情感丰富地写一首现代诗<|im_end|> <|im_start|>user 涟漪<|im_end|> <|im_start|>assistant 在湖面\\n撒一把盐\\n让每一粒\\n都开出一朵\\n咸味的花<|im_end|>'},\n",
       " {'text': '<|im_start|>system 用户会给出一个主题，请按照给定的主题，切实准确简洁且情感丰富地写一首现代诗<|im_end|> <|im_start|>user 静谧的河面<|im_end|> <|im_start|>assistant 静谧的河面\\n倒映着\\n夜的呼吸<|im_end|>'},\n",
       " {'text': '<|im_start|>system 用户会给出一个主题，请按照给定的主题，切实准确简洁且情感丰富地写一首现代诗<|im_end|> <|im_start|>user 日出<|im_end|> <|im_start|>assistant 日出时\\n光在黑暗中\\n寻找着出口<|im_end|>'},\n",
       " {'text': '<|im_start|>system 用户会给出一个主题，请按照给定的主题，切实准确简洁且情感丰富地写一首现代诗<|im_end|> <|im_start|>user 清晨的露珠<|im_end|> <|im_start|>assistant 在一夜的静谧之后，\\n晨风轻抚，\\n露珠在草尖上闪烁，\\n像是大地的眼泪，\\n晶莹剔透，\\n带着夜的哀愁，\\n却也藏着黎明的希望。<|im_end|>'},\n",
       " {'text': '<|im_start|>system 用户会给出一个主题，请按照给定的主题，切实准确简洁且情感丰富地写一首现代诗<|im_end|> <|im_start|>user 柿子<|im_end|> <|im_start|>assistant 在秋天的画卷里\\n我是一枚\\n被秋风亲吻过的柿子<|im_end|>'},\n",
       " {'text': '<|im_start|>system 用户会给出一个主题，请按照给定的主题，切实准确简洁且情感丰富地写一首现代诗<|im_end|> <|im_start|>user 带着你<|im_end|> <|im_start|>assistant 让我们在月光下\\n轻声细语\\n让那些\\n没有答案的问题\\n在风中飘散<|im_end|>'},\n",
       " {'text': '<|im_start|>system 用户会给出一个主题，请按照给定的主题，切实准确简洁且情感丰富地写一首现代诗<|im_end|> <|im_start|>user 静谧的湖<|im_end|> <|im_start|>assistant 在静谧的湖畔\\n我与影子对视\\n倾听风的呢喃\\n和远方的呼唤<|im_end|>'},\n",
       " {'text': '<|im_start|>system 用户会给出一个主题，请按照给定的主题，切实准确简洁且情感丰富地写一首现代诗<|im_end|> <|im_start|>user 失眠的猫<|im_end|> <|im_start|>assistant 深夜，我是一只\\n失眠的猫<|im_end|>'},\n",
       " {'text': '<|im_start|>system 用户会给出一个主题，请按照给定的主题，切实准确简洁且情感丰富地写一首现代诗<|im_end|> <|im_start|>user 森林<|im_end|> <|im_start|>assistant 在森林的深处\\n我遇见了你\\n你的眼睛\\n比树荫下的光还要明亮<|im_end|>'},\n",
       " {'text': '<|im_start|>system 用户会给出一个主题，请按照给定的主题，切实准确简洁且情感丰富地写一首现代诗<|im_end|> <|im_start|>user 风雨<|im_end|> <|im_start|>assistant 在每一次的风雨中\\n我都是一个\\n没有翅膀的\\n飞鸟<|im_end|>'},\n",
       " {'text': '<|im_start|>system 用户会给出一个主题，请按照给定的主题，切实准确简洁且情感丰富地写一首现代诗<|im_end|> <|im_start|>user 笨拙的爱<|im_end|> <|im_start|>assistant 在爱里，我是一只\\n笨拙的蚂蚁\\n背着比自己重千倍的石头<|im_end|>'},\n",
       " {'text': '<|im_start|>system 用户会给出一个主题，请按照给定的主题，切实准确简洁且情感丰富地写一首现代诗<|im_end|> <|im_start|>user 归途<|im_end|> <|im_start|>assistant 在归途的路上\\n我遇见了\\n曾经的自己<|im_end|>'},\n",
       " {'text': '<|im_start|>system 用户会给出一个主题，请按照给定的主题，切实准确简洁且情感丰富地写一首现代诗<|im_end|> <|im_start|>user 行囊<|im_end|> <|im_start|>assistant 我的行囊里\\n装着\\n故乡的炊烟\\n和\\n母亲的呼唤<|im_end|>'},\n",
       " {'text': '<|im_start|>system 用户会给出一个主题，请按照给定的主题，切实准确简洁且情感丰富地写一首现代诗<|im_end|> <|im_start|>user 北方的初雪<|im_end|> <|im_start|>assistant 北方的初雪\\n落在\\n冰冷的\\n铁轨上<|im_end|>'},\n",
       " {'text': '<|im_start|>system 用户会给出一个主题，请按照给定的主题，切实准确简洁且情感丰富地写一首现代诗<|im_end|> <|im_start|>user 城市与乡村的对比<|im_end|> <|im_start|>assistant 城市与乡村\\n是两个\\n互不相识的\\n陌生人<|im_end|>'},\n",
       " {'text': '<|im_start|>system 用户会给出一个主题，请按照给定的主题，切实准确简洁且情感丰富地写一首现代诗<|im_end|> <|im_start|>user 封不住的情感<|im_end|> <|im_start|>assistant 那些封不住的情感\\n像风\\n从四面八方\\n涌向你<|im_end|>'},\n",
       " {'text': '<|im_start|>system 用户会给出一个主题，请按照给定的主题，切实准确简洁且情感丰富地写一首现代诗<|im_end|> <|im_start|>user 书名<|im_end|> <|im_start|>assistant 在那本名为流年的书里\\n我一遍遍翻找\\n那些遗失的温度<|im_end|>'},\n",
       " {'text': '<|im_start|>system 用户会给出一个主题，请按照给定的主题，切实准确简洁且情感丰富地写一首现代诗<|im_end|> <|im_start|>user 马<|im_end|> <|im_start|>assistant 在遥远的边疆\\n马蹄声沉寂\\n裹着干涩的风<|im_end|>'},\n",
       " {'text': '<|im_start|>system 用户会给出一个主题，请按照给定的主题，切实准确简洁且情感丰富地写一首现代诗<|im_end|> <|im_start|>user 丢失的魔方<|im_end|> <|im_start|>assistant 在某个瞬间，我失去了\\n一个魔方\\n它曾是我手中的魔法\\n现在\\n它丢失了<|im_end|>'}]"
      ]
     },
     "execution_count": 8,
     "metadata": {},
     "output_type": "execute_result"
    }
   ],
   "source": [
    "poems[-67:]"
   ]
  },
  {
   "cell_type": "code",
   "execution_count": 7,
   "id": "3c20380b-dd73-4719-af1f-3f074e49f13c",
   "metadata": {},
   "outputs": [
    {
     "data": {
      "text/plain": [
       "[{'text': '<|im_start|>system 用户会给出一个主题，请按照给定的主题，切实准确简洁且情感丰富地写一首现代诗<|im_end|> <|im_start|>user 河<|im_end|> <|im_start|>assistant 在河水干涸前\\n我将一只虫放在那里\\n让他熟悉着温润而又恶臭的空气\\n它却飞起的像花一样\\n清澈的河水杂然无味\\n流淌在巨大的山峰底下\\n峰上盖着厚厚的雪<|im_end|>'},\n",
       " {'text': '<|im_start|>system 用户会给出一个主题，请按照给定的主题，切实准确简洁且情感丰富地写一首现代诗<|im_end|> <|im_start|>user 雨<|im_end|> <|im_start|>assistant 撕裂挂在雨水上的伞\\n雨像是隐藏在木中细断了的线\\n舒缓的冷风倚着夹缝挤进来\\n这无法吹干我们每个人的头发\\n也无法让我们每个人着凉\\n若嵌着的玻璃被风嚼碎\\n偏偏细碎便是雨\\n是大雨<|im_end|>'},\n",
       " {'text': '<|im_start|>system 用户会给出一个主题，请按照给定的主题，切实准确简洁且情感丰富地写一首现代诗<|im_end|> <|im_start|>user 湖<|im_end|> <|im_start|>assistant 湖水已在我眼里结痂\\n瞳孔中绽出一堆枯萎的莲花\\n冬\\n冬日来袭\\n我不再惧怕那焦糊了的莲蓬\\n温室外的昆虫都已死去\\n还没吮吸够空气的灰绿被冻的发脆\\n吹落的绿叶驾着荷叶驰骋\\n野鸭作伴\\n在还有余温的地方画出锋利的对勾<|im_end|>'},\n",
       " {'text': '<|im_start|>system 用户会给出一个主题，请按照给定的主题，切实准确简洁且情感丰富地写一首现代诗<|im_end|> <|im_start|>user 我踱来踱去<|im_end|> <|im_start|>assistant 似乎在等待着谁\\n却只看到了像蒲公英一样的蚊\\n这是或许有风吹来\\n我放弃挣扎\\n浸入冰冷的水中\\n让这刺骨的液态金属\\n一寸一寸把我挤破<|im_end|>'},\n",
       " {'text': '<|im_start|>system 用户会给出一个主题，请按照给定的主题，切实准确简洁且情感丰富地写一首现代诗<|im_end|> <|im_start|>user 我若继续抵抗<|im_end|> <|im_start|>assistant 紧紧地抓住桥头的木栏\\n尖锐的木刺插进手指\\n染黑了根根纤维\\n直到我们化作一体<|im_end|>'}]"
      ]
     },
     "execution_count": 7,
     "metadata": {},
     "output_type": "execute_result"
    }
   ],
   "source": [
    "poems[:5]"
   ]
  },
  {
   "cell_type": "code",
   "execution_count": 10,
   "id": "cedafedc-df4e-4415-81cd-041dc237ec9e",
   "metadata": {},
   "outputs": [
    {
     "name": "stdout",
     "output_type": "stream",
     "text": [
      "128\n"
     ]
    }
   ],
   "source": [
    "# Dump to JSONL\n",
    "with open(\"all_train.jsonl\", \"w\", encoding=\"utf-8\") as f:\n",
    "    for line in poems:\n",
    "        f.write(json.dumps(line, ensure_ascii=False) + \"\\n\")\n",
    "print(len(poems))"
   ]
  },
  {
   "cell_type": "code",
   "execution_count": null,
   "id": "740de6cc-d096-4af3-96d4-7d97b2f7333e",
   "metadata": {},
   "outputs": [],
   "source": [
    "# training_lines = []\n",
    "# for poem in augmented_dataset:\n",
    "#     # If there's a good title, use it as the 'prompt'; otherwise use a short description\n",
    "#     if poem.get(\"title\"):\n",
    "#         prompt_str = f\"Title: {poem['title']}\\nWrite a poem in that style.\"\n",
    "#     else:\n",
    "#         # fallback if no title\n",
    "#         prompt_str = f\"Write a poem about {poem['tone'] or 'an emotional scene'} in my style.\"\n",
    "    \n",
    "#     completion_str = poem[\"body\"]\n",
    "\n",
    "#     training_lines.append({\n",
    "#         \"prompt\": prompt_str,\n",
    "#         \"completion\": completion_str\n",
    "#     })\n",
    "\n",
    "# # Dump to JSONL\n",
    "# with open(\"train.jsonl\", \"w\", encoding=\"utf-8\") as f:\n",
    "#     for line in training_lines:\n",
    "#         f.write(json.dumps(line, ensure_ascii=False) + \"\\n\")\n"
   ]
  },
  {
   "cell_type": "code",
   "execution_count": null,
   "id": "929c8e39-5ad4-4e2c-b760-29695ed3939d",
   "metadata": {},
   "outputs": [],
   "source": []
  }
 ],
 "metadata": {
  "kernelspec": {
   "display_name": "Python 3 (ipykernel)",
   "language": "python",
   "name": "python3"
  },
  "language_info": {
   "codemirror_mode": {
    "name": "ipython",
    "version": 3
   },
   "file_extension": ".py",
   "mimetype": "text/x-python",
   "name": "python",
   "nbconvert_exporter": "python",
   "pygments_lexer": "ipython3",
   "version": "3.11.10"
  }
 },
 "nbformat": 4,
 "nbformat_minor": 5
}
